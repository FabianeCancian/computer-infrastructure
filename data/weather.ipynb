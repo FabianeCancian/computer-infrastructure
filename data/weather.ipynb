{
 "cells": [
  {
   "cell_type": "markdown",
   "metadata": {},
   "source": [
    "Task 01:\n",
    "Using the bash terminal I give the command \"mkdir data\" to create first the main directory (Data).This command allows to create a folder using the terminal. \n",
    "In the folder data I used the command \"mkdir timestamp\" to create the first subfolder, the same process was used to create the second subfolder \"weather\". \n",
    "An alternative way to create the directory and subdirectories is using the command \"mkdir -p folder/subloder\". The command Mkdir -p allows me to Create at the same time a folder and a subfolder."
   ]
  },
  {
   "cell_type": "markdown",
   "metadata": {},
   "source": [
    "Task 02:\n",
    "Executing on the terminal the command: date >> now.txt in the directory data/timestamp. This command will print out the current date in the file now.txt. Everytime i run the command a new line of date will be print out in the file due to the use of the command \">>\"."
   ]
  },
  {
   "cell_type": "markdown",
   "metadata": {},
   "source": [
    "Task 03:\n",
    "Executing on the terminal the command: date +\"%Y%m%d_%H%M%S\" >> formatted.txt. This command will print out the current date in the format YearMonthDay_HoursMinutesSeconds in the file formatted.txt."
   ]
  },
  {
   "cell_type": "markdown",
   "metadata": {},
   "source": [
    "Task 04:\n",
    "Using the command `date +\"%Y%m%d_%H%M%S\"`"
   ]
  }
 ],
 "metadata": {
  "language_info": {
   "name": "python"
  }
 },
 "nbformat": 4,
 "nbformat_minor": 2
}
